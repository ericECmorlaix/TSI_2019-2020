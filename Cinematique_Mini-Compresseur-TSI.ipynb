{
 "cells": [
  {
   "cell_type": "markdown",
   "metadata": {
    "slideshow": {
     "slide_type": "slide"
    }
   },
   "source": [
    "# Etude des grandeurs géométriques et cinématiques d'un mini-compresseur :"
   ]
  },
  {
   "cell_type": "markdown",
   "metadata": {},
   "source": [
    "## Mise en situation :\n",
    "\n",
    "<img src=\"https://ericecmorlaix.github.io/img/mini-compresseur_situation.png\" alt=\"mini-compresseur_situation.png\">"
   ]
  },
  {
   "cell_type": "markdown",
   "metadata": {},
   "source": [
    "##  : Analyse et Grandeurs géométriques :\n",
    "\n",
    "<img src=\"https://ericecmorlaix.github.io/img/mini-compresseur_ecorche-cec.JPG\" alt=\"mini-compresseur_ecorche-cec.JPG\">\n",
    "\n",
    "1. A partir de l'observation de l'image de la maquette numérique du mini-compresseur indiquer ci-dessous :\n",
    "- le nom des liaisons mécaniques représentées sur le schéma cinématique ;\n",
    "- les degrés de libertés de ces liaisons (1 si degré de liberté ou 0 sinon) ;\n",
    "- les numéros des classes d'équivalence sur le schéma cinématique et dans les cercles du graphe des liaisons mécaniques ;\n",
    "\n",
    "\n",
    "2. Sachant que : \n",
    "    - sur le vilebrequin, la distance entre les axes de la roue et du doigt excentrique est $e = 8 mm$ ;\n",
    "    - et que le diamètre du piston est $d = 21 mm$ ;\n",
    "    En déduire la course du piston et la cylindrée de ce compresseur...\n",
    "\n",
    "<img src=\"https://ericecmorlaix.github.io/img/mini-compresseur_schema_V2.png\" alt=\"mini-compresseur_schema_V2.png\">"
   ]
  },
  {
   "cell_type": "markdown",
   "metadata": {},
   "source": [
    "##  : Grandeurs cinématiques :\n",
    "\n",
    "- A partir des caractéristiques du moteur données, calculer la fréquence de rotation du vilebrequin $N_{2/1}$ en tours par minutes  :\n",
    "\n",
    "$N_{2/1} = $\n",
    "\n",
    "- En déduire sa vitesse angulaire $\\omega_{2/1}$ en radians par seconde :\n",
    "\n",
    "$\\omega_{2/1} = $\n",
    "\n",
    "- Calculer l'intensité de la vitesse linéaire $\\overrightarrow{V_{B,2/1}}$ puis tracer ce vecteur vitesse sur la figure ci-dessous :\n",
    "\n",
    "$\\|\\overrightarrow{V_{B,2/1}}\\| = $\n",
    "\n",
    "- Quelle serait la vitesse linéaire $\\overrightarrow{V_{M,2/1}}$ pour $M$ un point du vilebrequin situé au milieu de $[AB]$ ? Mettre ce résultat en évidence graphiquement...\n",
    "\n",
    "$\\|\\overrightarrow{V_{M,2/1}}\\| = $\n",
    "\n",
    "- Compléter la relation de composition des vitesses en B :\n",
    "\n",
    "$ \\overrightarrow{V_{B,2/1}} = \\overrightarrow{V_{B,.../...}} + \\overrightarrow{V_{B,4/1}} $\n",
    "\n",
    "- Que peut-on dire de $\\overrightarrow{V_{B,2/4}}$ ? \n",
    "\n",
    "$\\overrightarrow{V_{B,2/4}} = $\n",
    "\n",
    "- Conclure quant à  $\\overrightarrow{V_{B,4/1}}$...\n",
    "\n",
    "$\\overrightarrow{V_{B,4/1}} = $\n",
    "\n",
    "- Tracer le support du vecteur vitesse $\\overrightarrow{V_{C,5/1}}$\n",
    "\n",
    "...\n",
    "\n",
    "- Compléter la relation de composition des vitesses en C :\n",
    "\n",
    "$ \\overrightarrow{V_{C,5/1}} = \\overrightarrow{V_{C,.../...}} + \\overrightarrow{V_{C,4/1}} $\n",
    "\n",
    "- Que peut-on dire de $\\overrightarrow{V_{C,5/4}}$ ? \n",
    "\n",
    "$\\overrightarrow{V_{C,5/4}} = $\n",
    "\n",
    "- Conclure quant à  $\\overrightarrow{V_{C,4/1}}$ :\n",
    "\n",
    "$\\overrightarrow{V_{C,4/1}} = $\n",
    "\n",
    "- Déterminer l'intensité de $\\overrightarrow{V_{C,4/1}}$ par application de l'équiprojectivité sur la bielle 4 dans son mouvement par rapport au bati 1 :\n",
    "\n",
    "$\\|\\overrightarrow{V_{C,4/1}}\\| = $\n",
    "\n",
    "\n",
    "- L'intensité $\\|\\overrightarrow{V_{C,5/1}}\\|$ est-elle uniforme ?\n",
    "\n",
    "...\n",
    "\n",
    "\n",
    "<img src=\"https://ericecmorlaix.github.io/img/mini-compresseur_embiellage.png\" alt=\"mini-compresseur_embiellage.png\" width = 60%>"
   ]
  },
  {
   "cell_type": "markdown",
   "metadata": {},
   "source": [
    "## Vérification en simulation avec SolidWorks Motion..."
   ]
  },
  {
   "cell_type": "markdown",
   "metadata": {},
   "source": [
    "## Références au programme :\n",
    "\n",
    "<style type=\"text/css\">\n",
    ".tg  {border-collapse:collapse;border-spacing:0;}\n",
    ".tg td{font-family:Arial, sans-serif;font-size:14px;padding:10px 5px;border-style:solid;border-width:1px;overflow:hidden;word-break:normal;border-color:black;}\n",
    ".tg th{font-family:Arial, sans-serif;font-size:14px;font-weight:normal;padding:10px 5px;border-style:solid;border-width:1px;overflow:hidden;word-break:normal;border-color:black;}\n",
    ".tg .tg-cv16{font-weight:bold;background-color:#dae8fc;border-color:inherit;text-align:center}\n",
    ".tg .tg-xldj{border-color:inherit;text-align:left}\n",
    "</style>\n",
    "<table class=\"tg\">\n",
    "  <tr>\n",
    "    <th class=\"tg-cv16\">Compétences développées</th>\n",
    "    <th class=\"tg-cv16\">Connaissances associées</th>    \n",
    "  </tr>\n",
    "  <tr>\n",
    "    <td class=\"tg-xldj\">Déterminer les grandeurs géométriques et cinématiques d’un mécanisme</td>\n",
    "    <td class=\"tg-xldj\">Positions, vitesses et accélérations linéaire et angulaire sous forme vectorielle<br>Champ des vitesses<br>Composition des vitesses dans le cas d’une chaîne ouverte<br>Loi d’entrée/sortie d’un mécanisme dans le cas\n",
    "d’une chaîne fermée (fermeture géométrique)</td>    \n",
    "  </tr>\n",
    "</table>"
   ]
  },
  {
   "cell_type": "markdown",
   "metadata": {
    "slideshow": {
     "slide_type": "-"
    }
   },
   "source": [
    "<a rel=\"license\" href=\"http://creativecommons.org/licenses/by-sa/4.0/\"><img alt=\"Licence Creative Commons\" style=\"border-width:0\" src=\"https://i.creativecommons.org/l/by-sa/4.0/88x31.png\" /></a><br />Ce document est mis à disposition selon les termes de la <a rel=\"license\" href=\"http://creativecommons.org/licenses/by-sa/4.0/\">Licence Creative Commons Attribution -  Partage dans les Mêmes Conditions 4.0 International</a>.\n",
    "\n",
    "Pour toute question, suggestion ou commentaire : <a href=\"mailto:eric.madec@ecmorlaix.fr\">eric.madec@ecmorlaix.fr</a>"
   ]
  }
 ],
 "metadata": {
  "hide_input": false,
  "kernelspec": {
   "display_name": "Python 3",
   "language": "python",
   "name": "python3"
  },
  "language_info": {
   "codemirror_mode": {
    "name": "ipython",
    "version": 3
   },
   "file_extension": ".py",
   "mimetype": "text/x-python",
   "name": "python",
   "nbconvert_exporter": "python",
   "pygments_lexer": "ipython3",
   "version": "3.7.3"
  },
  "toc": {
   "base_numbering": 1,
   "nav_menu": {},
   "number_sections": true,
   "sideBar": true,
   "skip_h1_title": false,
   "title_cell": "Table of Contents",
   "title_sidebar": "Contents",
   "toc_cell": false,
   "toc_position": {},
   "toc_section_display": true,
   "toc_window_display": false
  },
  "varInspector": {
   "cols": {
    "lenName": 16,
    "lenType": 16,
    "lenVar": 40
   },
   "kernels_config": {
    "python": {
     "delete_cmd_postfix": "",
     "delete_cmd_prefix": "del ",
     "library": "var_list.py",
     "varRefreshCmd": "print(var_dic_list())"
    },
    "r": {
     "delete_cmd_postfix": ") ",
     "delete_cmd_prefix": "rm(",
     "library": "var_list.r",
     "varRefreshCmd": "cat(var_dic_list()) "
    }
   },
   "types_to_exclude": [
    "module",
    "function",
    "builtin_function_or_method",
    "instance",
    "_Feature"
   ],
   "window_display": false
  }
 },
 "nbformat": 4,
 "nbformat_minor": 2
}
